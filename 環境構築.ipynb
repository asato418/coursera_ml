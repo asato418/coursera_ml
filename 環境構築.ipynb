{
 "cells": [
  {
   "cell_type": "markdown",
   "metadata": {},
   "source": [
    "# CentOS7 + Python 開発環境構築\n",
    "\n",
    "vagrantで既存のcentos環境を複製した後に、python2, python3 が共存できる環境を pyenvコマンドで構築する手順のメモ\n",
    "Courseraの課題は、一旦は別Windowsに python2の環境構築して乗り切ったのですが、いつも学習・開発に使っている環境でやりたい（そうしないと色々不便でたまらない）ので、そちらの vagrant環境に構築することにしました。\n"
   ]
  },
  {
   "cell_type": "markdown",
   "metadata": {},
   "source": [
    "## １．既存のVagrant環境からの複製\n",
    "\n",
    "```\n",
    ">d:\n",
    ">cd \\vagrant\n",
    ">mkdir python-env\n",
    ">cd python-env\n",
    ">copy ..\\centos75\\Vagrantfile .    ←既存のcentos75環境からVagrantfileをコピー\n",
    "```\n"
   ]
  },
  {
   "cell_type": "markdown",
   "metadata": {},
   "source": [
    "## 2. vagrant 環境起動\n",
    "\n",
    "```\n",
    ">vagrant up\n",
    "```\n",
    "\n",
    "まあここまでは自分用のメモ。 Vagrantしばらく使ってないとわすれることがあるので。"
   ]
  },
  {
   "cell_type": "markdown",
   "metadata": {},
   "source": [
    "## 3. centos環境にログイン後、git インストール\n",
    "\n",
    "```\n",
    "$ sudo yum -y install git\n",
    "```\n"
   ]
  },
  {
   "cell_type": "markdown",
   "metadata": {},
   "source": [
    "# 4. pyenvのインストール。環境設定\n",
    "\n",
    "```\n",
    "$ sudo yum -y install gcc gcc-c++ make git openssl-devel bzip2-devel zlib-devel readline-devel sqlite-devel bzip2 sqlite\n",
    " zlib-devel bzip2 bzip2-devel readline-devel sqlite sqlite-devel openssl-devel\n",
    "$ git clone git://github.com/yyuu/pyenv.git ~/.pyenv\n",
    "$ echo 'export PYENV_ROOT=\"$HOME/.pyenv\"' >> ~/.bash_profile\n",
    "$  echo 'export PATH=\"$PYENV_ROOT/bin:$PATH\"' >> ~/.bash_profile\n",
    "$ echo 'eval \"$(pyenv init -)\"' >> ~/.bash_profile\n",
    "$ source ~/.bash_profile\n",
    "```\n",
    "\n",
    "最初の行の依存ライブラリのインストールが大事。これやってないとpyenv動かなくってはまります。\n",
    "私も最初少しはまった後ググって以下の記事を見つけました。ありがとうございます。\n",
    "\n",
    "https://qiita.com/yuta_h3/items/2988c4d0811bf8c344c0　\n",
    "\n",
    "で、\n",
    "```\n",
    "$ pyenv install --list \n",
    "```\n",
    "とすると、インストールできる pythonのバージョンリストが表示されるので、\n",
    "\n",
    "２系として、2.7.15\n",
    "３系として、3.6.5 \n",
    "\n",
    "をインストールします。\n",
    "\n",
    "```\n",
    "$ pyenv install 2.7.15\n",
    "Downloading Python-2.7.15.tar.xz...\n",
    "-> https://www.python.org/ftp/python/2.7.15/Python-2.7.15.tar.xz\n",
    "Installing Python-2.7.15...\n",
    "Installed Python-2.7.15 to /home/vagrant/.pyenv/versions/2.7.15\n",
    "```\n",
    "続いて、python 3.6.5\n",
    "```\n",
    "$ pyenv install 3.6.5\n",
    "Downloading Python-3.6.5.tar.xz...\n",
    "-> https://www.python.org/ftp/python/3.6.5/Python-3.6.5.tar.xz\n",
    "Installing Python-3.6.5...\n",
    "Installed Python-3.6.5 to /home/vagrant/.pyenv/versions/3.6.5\n",
    "```\n",
    "\n",
    "以上で、Python 2.7.15, 3.6.5 の両環境が使える環境ができました。"
   ]
  },
  {
   "cell_type": "markdown",
   "metadata": {},
   "source": [
    "## 5.Coursera Machine Learning用環境の作成\n",
    "\n",
    "前回、すでにPython3.6環境を素で入れていたWindows環境に入れようとしてはまりまくった CourseraのMachine Learningで使っている　 GraphLab Create, IPython Notebookの環境を作ります。 Python2 系を使っているようなので、\n",
    "\n",
    "### 5.1 pyenvでpython 2.7.15 環境を使う\n",
    "\n",
    "```\n",
    "$ pyenv global 2.7.15 \n",
    "```\n",
    "として、2.7.15 を使うようにします。"
   ]
  },
  {
   "cell_type": "markdown",
   "metadata": {},
   "source": [
    "### 5.2 pipenvのインストール、pipenvで仮想環境利用\n",
    "\n",
    "私がherokuを利用する時に使っていて便利だと思っている pipenv コマンドで仮想環境を利用します。\n",
    "\n",
    "```\n",
    "$ pip install pipenv\n",
    "$ mkdir coursera\n",
    "$ cd coursera\n",
    "$ pipenv shell\n",
    "```\n"
   ]
  },
  {
   "cell_type": "markdown",
   "metadata": {},
   "source": [
    "### 5.3 Coursera Machine Learning　学習環境の構築\n",
    "\n",
    "そして、前回Windowsに直接インストーラで入れようとしてはまりまくったGraphLab Createの環境構築。\n",
    "\n",
    "\n",
    "your registered email,\n",
    "your product key here の所には、それぞれ\n",
    "\n",
    "https://turi.com/learn/coursera/\n",
    "\n",
    "で登録して届いた e-mailからの値を入れて実行します。↓\n",
    "\n",
    "```\n",
    "$ pip install --upgrade --no-cache-dir https://get.graphlab.com/GraphLab-Create/2.1/your registered email address here/your product key here/GraphLab-Create-License.tar.gz\n",
    "```\n",
    "\n",
    "すんなりインストール成功。いろんなオンライン学習利用するには、pyenvで環境作っておいた方がよさそうですね。\n",
    "後は、サーバ上に環境を構築したので、起動時には外部から接続できるように --ip= のオプションを指定して IPython notebookを起動します。\n",
    "\n",
    "```\n",
    "$ ipython notebook --ip=0.0.0.0\n"
   ]
  },
  {
   "cell_type": "markdown",
   "metadata": {},
   "source": [
    "### 5.4 IPython notebook　に接続。\n",
    "\n",
    "ブラウザから、起動した IPython notebookに接続します。私の環境では、192.168.0.24 が vagrantで動いているサーバのIPアドレスなので\n",
    "\n",
    "http://192.168.0.24:8888\n",
    "\n",
    "で接続。\n",
    "\n",
    "![ノートブック](notebook.png)\n",
    "\n",
    "\n",
    "無事起動に成功しました。これで Courseraの学習がこの環境でできそうです。"
   ]
  }
 ],
 "metadata": {
  "kernelspec": {
   "display_name": "Python 2",
   "language": "python",
   "name": "python2"
  },
  "language_info": {
   "codemirror_mode": {
    "name": "ipython",
    "version": 2
   },
   "file_extension": ".py",
   "mimetype": "text/x-python",
   "name": "python",
   "nbconvert_exporter": "python",
   "pygments_lexer": "ipython2",
   "version": "2.7.15"
  }
 },
 "nbformat": 4,
 "nbformat_minor": 2
}
